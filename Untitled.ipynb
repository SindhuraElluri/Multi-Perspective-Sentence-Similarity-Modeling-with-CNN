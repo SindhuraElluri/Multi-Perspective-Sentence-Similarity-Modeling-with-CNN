{
 "cells": [
  {
   "cell_type": "code",
   "execution_count": 60,
   "metadata": {
    "collapsed": false
   },
   "outputs": [],
   "source": [
    "from keras.layers.convolutional import Convolution2D\n",
    "from keras.layers import Input, Lambda, Dense\n",
    "from tensorflow.contrib.layers import convolution2d, fully_connected\n",
    "from tensorflow.contrib.distributions import kl, Multinomial\n",
    "from scipy.stats import entropy\n",
    "import tensorflow as tf\n",
    "import keras as K\n",
    "import numpy as np\n",
    "\n",
    "d = 4\n",
    "\n",
    "sent_0 = tf.placeholder(shape=(None,d), dtype='float64', name='sent_input_0')\n",
    "sent_1 = tf.placeholder(shape=(None,d), dtype='float64', name='sent_input_1')\n",
    "p_ = tf.placeholder(shape=(1,5), dtype='float64', name='target')\n",
    "\n",
    "sentences = [sent_0, sent_1]"
   ]
  },
  {
   "cell_type": "code",
   "execution_count": null,
   "metadata": {
    "collapsed": false
   },
   "outputs": [],
   "source": [
    "y_ = K.placeholder((1,5))"
   ]
  },
  {
   "cell_type": "code",
   "execution_count": 53,
   "metadata": {
    "collapsed": false
   },
   "outputs": [],
   "source": [
    "from scipy.spatial.distance import cdist\n",
    "from keras import backend as K\n",
    "import tensorflow as tf\n",
    "\n",
    "def input_layer(sentences):\n",
    "    # Dimensions of two sentence embeddings are supposed to be same\n",
    "    ds = [sentence.get_shape()[1].value for sentence in sentences]\n",
    "    assert ds[0] == ds[1]\n",
    "    \n",
    "    # norm2 by row\n",
    "    norm2 = lambda X : K.expand_dims(K.sqrt(K.sum(X ** 2, 1)))\n",
    "    # Cosine distance by its best definition\n",
    "    cosine = lambda X, Y : K.dot(X, K.transpose(Y))/norm2(X)/K.transpose(norm2(Y))\n",
    "\n",
    "    D = cosine(sentences[0], sentences[1])\n",
    "    \n",
    "    # Attention weight vectors for sentence 0 and 1\n",
    "    As = [K.softmax(K.expand_dims(K.sum(D,i),1)) for i in [1,0]]\n",
    "    \n",
    "    # Concatenating the original sentence embedding to the cosine similarity, \n",
    "    # force the dimension to be expanded from d to 2*d\n",
    "    atten_embeds = []\n",
    "    for i in xrange(2):\n",
    "        atten_embed = tf.concat(1, [sentences[i], As[i] * sentences[i]])\n",
    "        atten_embed = K.expand_dims(atten_embed, 0)\n",
    "        atten_embed = K.expand_dims(atten_embed, 3)\n",
    "        atten_embeds.append(atten_embed)\n",
    "\n",
    "    return atten_embeds\n",
    "\n",
    "atten_embeds = input_layer(sentences)"
   ]
  },
  {
   "cell_type": "code",
   "execution_count": 54,
   "metadata": {
    "collapsed": false
   },
   "outputs": [],
   "source": [
    "wss = [1,2,3]\n",
    "\n",
    "# Let the number of filters be \n",
    "num_filters = 2*2*d\n",
    "\n",
    "def sentence_algo1(atten_embeds):\n",
    "    fea_A = []\n",
    "    for i, pooling in enumerate([K.max, K.min, K.mean]):\n",
    "        regM0, regM1 = [], []\n",
    "        for j, ws in enumerate(wss):\n",
    "            for k, atten_embed in enumerate(atten_embeds):\n",
    "                # Building block A\n",
    "                conv = convolution2d(atten_embed, num_filters, kernel_size=[ws, 2*d], stride=[1,1], padding='VALID')\n",
    "                conv = tf.squeeze(conv, axis=[0,2])\n",
    "                if k == 0:\n",
    "                    regM0.append(pooling(conv, 0))\n",
    "                else:\n",
    "                    regM1.append(pooling(conv, 0))\n",
    "        regM0, regM1 = tf.pack(regM0), tf.pack(regM1)\n",
    "\n",
    "        for n in xrange(num_filters):\n",
    "            fea_A.append(comU2(regM0[:,n], regM1[:,n]))\n",
    "\n",
    "    fea_A = K.expand_dims(K.flatten(fea_A),0)\n",
    "    \n",
    "    return fea_A\n",
    "\n",
    "fea_A = sentence_algo1(atten_embeds)"
   ]
  },
  {
   "cell_type": "code",
   "execution_count": 47,
   "metadata": {
    "collapsed": false
   },
   "outputs": [
    {
     "data": {
      "text/plain": [
       "[<tf.Tensor 'ExpandDims_5:0' shape=(1, ?, 8, 1) dtype=float64>,\n",
       " <tf.Tensor 'ExpandDims_7:0' shape=(1, ?, 8, 1) dtype=float64>]"
      ]
     },
     "execution_count": 47,
     "metadata": {},
     "output_type": "execute_result"
    }
   ],
   "source": [
    "atten_embeds"
   ]
  },
  {
   "cell_type": "code",
   "execution_count": 70,
   "metadata": {
    "collapsed": false
   },
   "outputs": [],
   "source": [
    "n_hidden = 5 \n",
    "p = fully_connected(fully_connected(fea_A, n_hidden, activation_fn=tf.nn.tanh), 5, activation_fn=tf.nn.log_softmax)\n",
    "# p_ = sparse_target_distribution(y)\n",
    "\n",
    "cross_entropy = -tf.reduce_sum(p_ * tf.log(p))\n",
    "entropy = -tf.reduce_sum(p_ * tf.log(p_ + 0.00001))\n",
    "kl_divergence = cross_entropy - entropy\n",
    "\n",
    "train_step = tf.train.GradientDescentOptimizer(0.5).minimize(kl_divergence)"
   ]
  },
  {
   "cell_type": "code",
   "execution_count": 42,
   "metadata": {
    "collapsed": false
   },
   "outputs": [
    {
     "ename": "NameError",
     "evalue": "name 'p' is not defined",
     "output_type": "error",
     "traceback": [
      "\u001b[0;31m---------------------------------------------------------------------------\u001b[0m",
      "\u001b[0;31mNameError\u001b[0m                                 Traceback (most recent call last)",
      "\u001b[0;32m<ipython-input-42-9d7bf0753729>\u001b[0m in \u001b[0;36m<module>\u001b[0;34m()\u001b[0m\n\u001b[0;32m----> 1\u001b[0;31m \u001b[0mp\u001b[0m\u001b[0;34m\u001b[0m\u001b[0m\n\u001b[0m",
      "\u001b[0;31mNameError\u001b[0m: name 'p' is not defined"
     ]
    }
   ],
   "source": [
    "p"
   ]
  },
  {
   "cell_type": "code",
   "execution_count": null,
   "metadata": {
    "collapsed": false
   },
   "outputs": [],
   "source": []
  },
  {
   "cell_type": "code",
   "execution_count": null,
   "metadata": {
    "collapsed": false
   },
   "outputs": [],
   "source": [
    "conv_layers_A[0].get_weights()[0].shape"
   ]
  },
  {
   "cell_type": "code",
   "execution_count": 48,
   "metadata": {
    "collapsed": true
   },
   "outputs": [],
   "source": [
    "def sparse_target_distribution(y):\n",
    "    y_floor = int(np.floor(y))\n",
    "    p = np.zeros(5)\n",
    "    for i in xrange(y):\n",
    "        if i == y_floor:\n",
    "            p[i] = y - y_floor\n",
    "        elif i == y_floor - 1:\n",
    "            p[i] = y - y_floor + 1\n",
    "    \n",
    "    return p"
   ]
  },
  {
   "cell_type": "code",
   "execution_count": 62,
   "metadata": {
    "collapsed": false
   },
   "outputs": [
    {
     "ename": "TypeError",
     "evalue": "__init__() takes at least 2 arguments (2 given)",
     "output_type": "error",
     "traceback": [
      "\u001b[0;31m---------------------------------------------------------------------------\u001b[0m",
      "\u001b[0;31mTypeError\u001b[0m                                 Traceback (most recent call last)",
      "\u001b[0;32m<ipython-input-62-c656979a8787>\u001b[0m in \u001b[0;36m<module>\u001b[0;34m()\u001b[0m\n\u001b[0;32m----> 1\u001b[0;31m \u001b[0mMultinomial\u001b[0m\u001b[0;34m(\u001b[0m\u001b[0mlogits\u001b[0m\u001b[0;34m=\u001b[0m\u001b[0mp_\u001b[0m\u001b[0;34m)\u001b[0m\u001b[0;34m\u001b[0m\u001b[0m\n\u001b[0m",
      "\u001b[0;31mTypeError\u001b[0m: __init__() takes at least 2 arguments (2 given)"
     ]
    }
   ],
   "source": [
    "Multinomial(logits=p_)"
   ]
  },
  {
   "cell_type": "code",
   "execution_count": 63,
   "metadata": {
    "collapsed": false
   },
   "outputs": [
    {
     "data": {
      "text/plain": [
       "<tensorflow.contrib.distributions.python.ops.multinomial.Multinomial at 0x125907750>"
      ]
     },
     "execution_count": 63,
     "metadata": {},
     "output_type": "execute_result"
    }
   ],
   "source": [
    "p = [.2, .3, .5]\n",
    "Multinomial(n=4., p=p)"
   ]
  },
  {
   "cell_type": "code",
   "execution_count": null,
   "metadata": {
    "collapsed": false
   },
   "outputs": [],
   "source": [
    "for sentences in range(sentence_pairs):\n",
    "    sent_0, sent_1, target = sentences\n",
    "    \n",
    "    sess.run(train_step, feed_dict={x: batch_xs, y_: batch_ys})"
   ]
  },
  {
   "cell_type": "code",
   "execution_count": null,
   "metadata": {
    "collapsed": true
   },
   "outputs": [],
   "source": [
    "def initialize_block_A(d, wss, activation=K.tanh):    \n",
    "    conv_layers = [Convolution2D(num_filters, ws, 2*d, dim_ordering=\"tf\", activation=activation) for ws in wss]\n",
    "    \n",
    "    return conv_layers\n",
    "\n",
    "def initialize_block_B(d, wss, activation=K.tanh):    \n",
    "    conv_layers = [Convolution2D(num_filters, 1, ws, dim_ordering=\"tf\", activation=activation) for ws in wss]\n",
    "    \n",
    "    return conv_layers\n",
    "\n",
    "def initialize_dense(n_hidden=150, activation=K.tanh):\n",
    "    dense = Dense(n_hidden, activation=activation)\n",
    "    softmax = Dense(5, activation=K.softmax)\n",
    "    \n",
    "    return (dense, softmax)"
   ]
  },
  {
   "cell_type": "code",
   "execution_count": 23,
   "metadata": {
    "collapsed": false
   },
   "outputs": [],
   "source": [
    "def comU2(vec0, vec1):\n",
    "    cos_dist = K.sum(vec0 * vec1)/K.sqrt(K.sum(vec0 ** 2))/K.sqrt(K.sum(vec1 ** 2))\n",
    "    l2_dist = K.sqrt(K.sum(K.square(vec0 - vec1)))\n",
    "    result = tf.pack([cos_dist, l2_dist])\n",
    "    \n",
    "    return result"
   ]
  },
  {
   "cell_type": "code",
   "execution_count": null,
   "metadata": {
    "collapsed": false
   },
   "outputs": [],
   "source": [
    "output"
   ]
  },
  {
   "cell_type": "code",
   "execution_count": null,
   "metadata": {
    "collapsed": false
   },
   "outputs": [],
   "source": [
    "x"
   ]
  },
  {
   "cell_type": "code",
   "execution_count": null,
   "metadata": {
    "collapsed": false
   },
   "outputs": [],
   "source": [
    "K.transpose(A_0 * sent_0)"
   ]
  }
 ],
 "metadata": {
  "kernelspec": {
   "display_name": "Python 2",
   "language": "python",
   "name": "python2"
  },
  "language_info": {
   "codemirror_mode": {
    "name": "ipython",
    "version": 2
   },
   "file_extension": ".py",
   "mimetype": "text/x-python",
   "name": "python",
   "nbconvert_exporter": "python",
   "pygments_lexer": "ipython2",
   "version": "2.7.12"
  }
 },
 "nbformat": 4,
 "nbformat_minor": 0
}
