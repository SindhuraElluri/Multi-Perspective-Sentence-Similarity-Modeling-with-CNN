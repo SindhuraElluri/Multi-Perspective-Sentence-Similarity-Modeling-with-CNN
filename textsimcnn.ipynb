{
 "cells": [
  {
   "cell_type": "code",
   "execution_count": 148,
   "metadata": {
    "collapsed": false
   },
   "outputs": [],
   "source": [
    "from keras.layers.convolutional import Convolution2D\n",
    "from keras.layers import Input, Lambda, Dense\n",
    "from tensorflow.contrib.layers import convolution2d, fully_connected\n",
    "from tensorflow.contrib.distributions import kl, Multinomial\n",
    "from scipy.stats import entropy\n",
    "import tensorflow as tf\n",
    "from keras import backend as K\n",
    "import numpy as np\n",
    "\n",
    "d = 4\n",
    "\n",
    "sent_0 = tf.placeholder(shape=(None,d), dtype='float64', name='sent_input_0')\n",
    "sent_1 = tf.placeholder(shape=(None,d), dtype='float64', name='sent_input_1')\n",
    "p_ = tf.placeholder(shape=(1,5), dtype='float64', name='target')\n",
    "\n",
    "sentences = [sent_0, sent_1]\n",
    "\n",
    "def comU1(vec0, vec1):\n",
    "    cos_dist = K.sum(vec0 * vec1)/K.sqrt(K.sum(vec0 ** 2))/K.sqrt(K.sum(vec1 ** 2))\n",
    "    l2_dist = K.sqrt(K.sum(K.square(vec0 - vec1)))\n",
    "    l1_dist = K.sum(K.abs(vec0 - vec1))\n",
    "\n",
    "    result = tf.pack([cos_dist, l2_dist, l1_dist])\n",
    "    \n",
    "    return result\n",
    "\n",
    "def comU2(vec0, vec1):\n",
    "    cos_dist = K.sum(vec0 * vec1)/K.sqrt(K.sum(vec0 ** 2))/K.sqrt(K.sum(vec1 ** 2))\n",
    "    l2_dist = K.sqrt(K.sum(K.square(vec0 - vec1)))\n",
    "    result = tf.pack([cos_dist, l2_dist])\n",
    "    \n",
    "    return result"
   ]
  },
  {
   "cell_type": "code",
   "execution_count": 149,
   "metadata": {
    "collapsed": false
   },
   "outputs": [],
   "source": [
    "from scipy.spatial.distance import cdist\n",
    "from keras import backend as K\n",
    "import tensorflow as tf\n",
    "\n",
    "def input_layer(sentences):\n",
    "    # Dimensions of two sentence embeddings are supposed to be same\n",
    "    ds = [sentence.get_shape()[1].value for sentence in sentences]\n",
    "    assert ds[0] == ds[1]\n",
    "    \n",
    "    # norm2 by row\n",
    "    norm2 = lambda X : K.expand_dims(K.sqrt(K.sum(X ** 2, 1)))\n",
    "    # Cosine distance by its best definition\n",
    "    cosine = lambda X, Y : K.dot(X, K.transpose(Y))/norm2(X)/K.transpose(norm2(Y))\n",
    "\n",
    "    D = cosine(sentences[0], sentences[1])\n",
    "    \n",
    "    # Attention weight vectors for sentence 0 and 1\n",
    "    As = [K.softmax(K.expand_dims(K.sum(D,i),1)) for i in [1,0]]\n",
    "    \n",
    "    # Concatenating the original sentence embedding to the cosine similarity, \n",
    "    # force the dimension to be expanded from d to 2*d\n",
    "    atten_embeds = []\n",
    "    for i in xrange(2):\n",
    "        atten_embed = tf.concat(1, [sentences[i], As[i] * sentences[i]])\n",
    "        atten_embed = K.expand_dims(atten_embed, 0)\n",
    "        atten_embed = K.expand_dims(atten_embed, 3)\n",
    "        atten_embeds.append(atten_embed)\n",
    "\n",
    "    return atten_embeds\n",
    "\n",
    "atten_embeds = input_layer(sentences)"
   ]
  },
  {
   "cell_type": "code",
   "execution_count": 155,
   "metadata": {
    "collapsed": false
   },
   "outputs": [],
   "source": [
    "wss = [1,2,3]\n",
    "\n",
    "# Let the number of filters be \n",
    "num_filters = 2*2*d\n",
    "\n",
    "def sentence_algo1(atten_embeds):\n",
    "    fea_A = []\n",
    "    with tf.variable_scope(\"algo_1\"):\n",
    "        for i, pooling in enumerate([K.max, K.min, K.mean]):\n",
    "            regM0, regM1 = [], []\n",
    "            for j, ws in enumerate(wss):\n",
    "                for k, atten_embed in enumerate(atten_embeds):\n",
    "                    # Building block A\n",
    "                    conv = convolution2d(atten_embed, num_filters, kernel_size=[ws, 2*d], stride=[1,1], padding='VALID')\n",
    "                    conv = tf.squeeze(conv, axis=[0,2])\n",
    "                    if k == 0:\n",
    "                        regM0.append(pooling(conv, 0))\n",
    "                    else:\n",
    "                        regM1.append(pooling(conv, 0))\n",
    "            regM0, regM1 = tf.pack(regM0), tf.pack(regM1)\n",
    "\n",
    "            for n in xrange(num_filters):\n",
    "                fea_A.append(comU2(regM0[:,n], regM1[:,n]))\n",
    "\n",
    "        fea_A = K.expand_dims(K.flatten(fea_A),0)\n",
    "    \n",
    "    return fea_A\n",
    "\n",
    "fea_A = sentence_algo1(atten_embeds)"
   ]
  },
  {
   "cell_type": "code",
   "execution_count": 153,
   "metadata": {
    "collapsed": false
   },
   "outputs": [],
   "source": [
    "fea_h = sentence_algo1(atten_embeds)"
   ]
  },
  {
   "cell_type": "code",
   "execution_count": 145,
   "metadata": {
    "collapsed": false
   },
   "outputs": [],
   "source": [
    "tf.reset_default_graph()"
   ]
  },
  {
   "cell_type": "code",
   "execution_count": 156,
   "metadata": {
    "collapsed": false
   },
   "outputs": [
    {
     "name": "stdout",
     "output_type": "stream",
     "text": [
      "Conv/weights:0\n",
      "Conv/biases:0\n",
      "Conv_1/weights:0\n",
      "Conv_1/biases:0\n",
      "Conv_2/weights:0\n",
      "Conv_2/biases:0\n",
      "Conv_3/weights:0\n",
      "Conv_3/biases:0\n",
      "Conv_4/weights:0\n",
      "Conv_4/biases:0\n",
      "Conv_5/weights:0\n",
      "Conv_5/biases:0\n",
      "Conv_6/weights:0\n",
      "Conv_6/biases:0\n",
      "Conv_7/weights:0\n",
      "Conv_7/biases:0\n",
      "Conv_8/weights:0\n",
      "Conv_8/biases:0\n",
      "Conv_9/weights:0\n",
      "Conv_9/biases:0\n",
      "Conv_10/weights:0\n",
      "Conv_10/biases:0\n",
      "Conv_11/weights:0\n",
      "Conv_11/biases:0\n",
      "Conv_12/weights:0\n",
      "Conv_12/biases:0\n",
      "Conv_13/weights:0\n",
      "Conv_13/biases:0\n",
      "Conv_14/weights:0\n",
      "Conv_14/biases:0\n",
      "Conv_15/weights:0\n",
      "Conv_15/biases:0\n",
      "Conv_16/weights:0\n",
      "Conv_16/biases:0\n",
      "Conv_17/weights:0\n",
      "Conv_17/biases:0\n",
      "Conv_18/weights:0\n",
      "Conv_18/biases:0\n",
      "Conv_19/weights:0\n",
      "Conv_19/biases:0\n",
      "Conv_20/weights:0\n",
      "Conv_20/biases:0\n",
      "Conv_21/weights:0\n",
      "Conv_21/biases:0\n",
      "Conv_22/weights:0\n",
      "Conv_22/biases:0\n",
      "Conv_23/weights:0\n",
      "Conv_23/biases:0\n",
      "Conv_24/weights:0\n",
      "Conv_24/biases:0\n",
      "Conv_25/weights:0\n",
      "Conv_25/biases:0\n",
      "Conv_26/weights:0\n",
      "Conv_26/biases:0\n",
      "Conv_27/weights:0\n",
      "Conv_27/biases:0\n",
      "Conv_28/weights:0\n",
      "Conv_28/biases:0\n",
      "Conv_29/weights:0\n",
      "Conv_29/biases:0\n",
      "Conv_30/weights:0\n",
      "Conv_30/biases:0\n",
      "Conv_31/weights:0\n",
      "Conv_31/biases:0\n",
      "Conv_32/weights:0\n",
      "Conv_32/biases:0\n",
      "Conv_33/weights:0\n",
      "Conv_33/biases:0\n",
      "Conv_34/weights:0\n",
      "Conv_34/biases:0\n",
      "Conv_35/weights:0\n",
      "Conv_35/biases:0\n",
      "algo_1/Conv/weights:0\n",
      "algo_1/Conv/biases:0\n",
      "algo_1/Conv_1/weights:0\n",
      "algo_1/Conv_1/biases:0\n",
      "algo_1/Conv_2/weights:0\n",
      "algo_1/Conv_2/biases:0\n",
      "algo_1/Conv_3/weights:0\n",
      "algo_1/Conv_3/biases:0\n",
      "algo_1/Conv_4/weights:0\n",
      "algo_1/Conv_4/biases:0\n",
      "algo_1/Conv_5/weights:0\n",
      "algo_1/Conv_5/biases:0\n",
      "algo_1/Conv_6/weights:0\n",
      "algo_1/Conv_6/biases:0\n",
      "algo_1/Conv_7/weights:0\n",
      "algo_1/Conv_7/biases:0\n",
      "algo_1/Conv_8/weights:0\n",
      "algo_1/Conv_8/biases:0\n",
      "algo_1/Conv_9/weights:0\n",
      "algo_1/Conv_9/biases:0\n",
      "algo_1/Conv_10/weights:0\n",
      "algo_1/Conv_10/biases:0\n",
      "algo_1/Conv_11/weights:0\n",
      "algo_1/Conv_11/biases:0\n",
      "algo_1/Conv_12/weights:0\n",
      "algo_1/Conv_12/biases:0\n",
      "algo_1/Conv_13/weights:0\n",
      "algo_1/Conv_13/biases:0\n",
      "algo_1/Conv_14/weights:0\n",
      "algo_1/Conv_14/biases:0\n",
      "algo_1/Conv_15/weights:0\n",
      "algo_1/Conv_15/biases:0\n",
      "algo_1/Conv_16/weights:0\n",
      "algo_1/Conv_16/biases:0\n",
      "algo_1/Conv_17/weights:0\n",
      "algo_1/Conv_17/biases:0\n"
     ]
    }
   ],
   "source": [
    "for v in tf.global_variables():\n",
    "    print v.name"
   ]
  },
  {
   "cell_type": "code",
   "execution_count": 133,
   "metadata": {
    "collapsed": false
   },
   "outputs": [],
   "source": [
    "for i in tf.global_variables():\n",
    "    if \"algo_1\" in i.name:\n",
    "        print i.name"
   ]
  },
  {
   "cell_type": "code",
   "execution_count": 172,
   "metadata": {
    "collapsed": false
   },
   "outputs": [
    {
     "data": {
      "text/plain": [
       "[]"
      ]
     },
     "execution_count": 172,
     "metadata": {},
     "output_type": "execute_result"
    }
   ],
   "source": [
    "[i.name for i in tf.get_collection(tf.GraphKeys.REGULARIZATION_LOSSES, scope=\"algo_1\")]"
   ]
  },
  {
   "cell_type": "code",
   "execution_count": 165,
   "metadata": {
    "collapsed": false
   },
   "outputs": [],
   "source": [
    "g = tf.Graph()"
   ]
  },
  {
   "cell_type": "code",
   "execution_count": 189,
   "metadata": {
    "collapsed": false
   },
   "outputs": [],
   "source": [
    "temp = convolution2d(atten_embeds[0], 100, kernel_size=[1, 2*4], stride=[1,1], padding='VALID', \\\n",
    "        weights_regularizer=regularizer, biases_regularizer=regularizer)"
   ]
  },
  {
   "cell_type": "code",
   "execution_count": 190,
   "metadata": {
    "collapsed": false
   },
   "outputs": [
    {
     "data": {
      "text/plain": [
       "<tf.Tensor 'Conv_3/Relu:0' shape=(1, ?, 1, 100) dtype=float64>"
      ]
     },
     "execution_count": 190,
     "metadata": {},
     "output_type": "execute_result"
    }
   ],
   "source": [
    "temp"
   ]
  },
  {
   "cell_type": "code",
   "execution_count": 184,
   "metadata": {
    "collapsed": false
   },
   "outputs": [],
   "source": [
    "regularizer = tf.contrib.layers.l2_regularizer(0.01)"
   ]
  },
  {
   "cell_type": "code",
   "execution_count": 33,
   "metadata": {
    "collapsed": false
   },
   "outputs": [],
   "source": [
    "def building_block_B(input, ws, num_filters):\n",
    "    # Dimension where we want to iteration through with multiple 1D CNN\n",
    "    dimension = input.get_shape()[2].value\n",
    "\n",
    "    # Stores the 1d conv output\n",
    "    convs = []\n",
    "    # Per dimension iteration\n",
    "    for d in xrange(dimension):\n",
    "        conv = convolution2d(tf.expand_dims(input[:,:,d,:],1), num_filters, kernel_size=[1,ws], stride=[1,1], padding='VALID')\n",
    "        # Removing the dimension with 1\n",
    "        conv = tf.squeeze(conv, axis=[0,1])\n",
    "        convs.append(conv)\n",
    "\n",
    "    return convs\n",
    "\n",
    "def building_block_A(input, ws, d, num_filters):\n",
    "    conv = convolution2d(input, num_filters, kernel_size=[ws, 2*d], stride=[1,1], padding='VALID')\n",
    "    return conv"
   ]
  },
  {
   "cell_type": "code",
   "execution_count": 105,
   "metadata": {
    "collapsed": true
   },
   "outputs": [],
   "source": [
    "def sentence_algo2(atten_embeds, num_filters_A, num_filters_B):\n",
    "    fea_a, fea_b = [], []\n",
    "    for i, pooling in enumerate([K.max, K.min, K.mean]):\n",
    "        atten_embed_0, atten_embed_1 = atten_embeds\n",
    "\n",
    "        # Working with building block A, moving the window across the whole length of the word embedding\n",
    "        for j_0, ws_0 in enumerate(wss):\n",
    "            oG0A = building_block_A(atten_embed_0, ws_0, d, num_filters_A)\n",
    "            for j_1, ws_1 in enumerate(wss):\n",
    "                oG1A = building_block_A(atten_embed_1, ws_1, d, num_filters_A)\n",
    "                fea_a.append(comU1(oG0A, oG1A))\n",
    "\n",
    "        # Working with building block B, the per dimensional CNN\n",
    "        for b, ws in enumerate(wss):\n",
    "            oG0B = building_block_B(atten_embed_0, ws, num_filters_B)\n",
    "            oG0B = tf.pack([pooling(conv,0) for conv in oG0B])\n",
    "\n",
    "            oG1B = building_block_B(atten_embed_1, ws, num_filters_B)\n",
    "            oG1B = tf.pack([pooling(conv,0) for conv in oG1B])\n",
    "            \n",
    "            for n in xrange(num_filters_B):\n",
    "                fea_b.append(comU1(oG0B[:,n], oG1B[:,n]))\n",
    "        \n",
    "    fea_v = tf.concat(0, map(K.flatten, [fea_a, fea_b]))\n",
    "    \n",
    "    return fea_v"
   ]
  },
  {
   "cell_type": "code",
   "execution_count": 113,
   "metadata": {
    "collapsed": false
   },
   "outputs": [],
   "source": [
    "class SentenceModeling():\n",
    "    def __init__(conf, atten_embeds):\n",
    "        self.conf = conf\n",
    "        self.atten_embeds = atten_embeds\n",
    "        self.fea_h, fea_v = None, None\n",
    "\n",
    "    # Algorithm 1 Horizontal Comparison\n",
    "    def horizontal_comparison(self):\n",
    "        if self.fea_h is not None:\n",
    "            return self.fea_h\n",
    "\n",
    "        fea_h = []\n",
    "        with tf.variable_scope(\"algo_1\"):\n",
    "            for i, pooling in enumerate([K.max, K.min, K.mean]):\n",
    "                regM0, regM1 = [], []\n",
    "                for j, ws in enumerate(wss):\n",
    "                    for k, atten_embed in enumerate(atten_embeds):\n",
    "                        # Working with building block A, moving the window across the whole length of the word embedding\n",
    "                        conv = building_block_A(atten_embed, ws_0, d, num_filters_A)\n",
    "                        conv = tf.squeeze(conv, axis=[0,2])\n",
    "                        if k == 0:\n",
    "                            regM0.append(pooling(conv, 0))\n",
    "                        else:\n",
    "                            regM1.append(pooling(conv, 0))\n",
    "                regM0, regM1 = tf.pack(regM0), tf.pack(regM1)\n",
    "\n",
    "                for n in xrange(num_filters):\n",
    "                    fea_h.append(comU2(regM0[:,n], regM1[:,n]))\n",
    "\n",
    "            fea_h = K.expand_dims(K.flatten(fea_h),0)\n",
    "\n",
    "            self.fea_h = fea_h\n",
    "        \n",
    "        return fea_h\n",
    "\n",
    "    # Algorithm 2 Vertical Comparison\n",
    "    def vertical_comparison(self):\n",
    "        if self.fea_v is not None:\n",
    "            return self.fea_v\n",
    "\n",
    "        fea_a, fea_b = [], []\n",
    "\n",
    "        with tf.variable_scope(\"algo_2\"):\n",
    "            for i, pooling in enumerate([K.max, K.min, K.mean]):\n",
    "                atten_embed_0, atten_embed_1 = self.atten_embeds\n",
    "\n",
    "                # Working with building block A, moving the window across the whole length of the word embedding\n",
    "                for j_0, ws_0 in enumerate(wss):\n",
    "                    oG0A = building_block_A(atten_embed_0, ws_0, d, self.conf.num_filters_A)\n",
    "                    for j_1, ws_1 in enumerate(wss):\n",
    "                        oG1A = building_block_A(atten_embed_1, ws_1, d, self.conf.num_filters_A)\n",
    "                        fea_a.append(comU1(oG0A, oG1A))\n",
    "\n",
    "                # Working with building block B, the per dimensional CNN\n",
    "                for b, ws in enumerate(wss):\n",
    "                    oG0B = building_block_B(atten_embed_0, ws, self.conf.num_filters_B)\n",
    "                    oG0B = tf.pack([pooling(conv,0) for conv in oG0B])\n",
    "\n",
    "                    oG1B = building_block_B(atten_embed_1, ws, self.conf.num_filters_B)\n",
    "                    oG1B = tf.pack([pooling(conv,0) for conv in oG1B])\n",
    "                    \n",
    "                    for n in xrange(num_filters_B):\n",
    "                        fea_b.append(comU1(oG0B[:,n], oG1B[:,n]))\n",
    "            \n",
    "            # Concatenate them up! Oops that's a lot...\n",
    "            fea_v = K.expand_dims(tf.concat(0, map(K.flatten, [fea_a, fea_b])),0)\n",
    "\n",
    "            self.fea_a, self.fea_b, self.fea_v = fea_a, fea_b, fea_v\n",
    "        \n",
    "        return fea_v"
   ]
  },
  {
   "cell_type": "code",
   "execution_count": 114,
   "metadata": {
    "collapsed": false
   },
   "outputs": [
    {
     "ename": "NameError",
     "evalue": "name 'conf' is not defined",
     "output_type": "error",
     "traceback": [
      "\u001b[0;31m---------------------------------------------------------------------------\u001b[0m",
      "\u001b[0;31mNameError\u001b[0m                                 Traceback (most recent call last)",
      "\u001b[0;32m<ipython-input-114-8b5bf7c9ae83>\u001b[0m in \u001b[0;36m<module>\u001b[0;34m()\u001b[0m\n\u001b[0;32m----> 1\u001b[0;31m \u001b[0msetence_model\u001b[0m \u001b[0;34m=\u001b[0m \u001b[0mSentenceModeling\u001b[0m\u001b[0;34m(\u001b[0m\u001b[0mconf\u001b[0m\u001b[0;34m,\u001b[0m \u001b[0matten_embeds\u001b[0m\u001b[0;34m)\u001b[0m\u001b[0;34m\u001b[0m\u001b[0m\n\u001b[0m\u001b[1;32m      2\u001b[0m \u001b[0;34m\u001b[0m\u001b[0m\n\u001b[1;32m      3\u001b[0m \u001b[0mfea_h\u001b[0m \u001b[0;34m=\u001b[0m \u001b[0msetence_model\u001b[0m\u001b[0;34m.\u001b[0m\u001b[0mhorizontal_comparison\u001b[0m\u001b[0;34m(\u001b[0m\u001b[0;34m)\u001b[0m\u001b[0;34m\u001b[0m\u001b[0m\n",
      "\u001b[0;31mNameError\u001b[0m: name 'conf' is not defined"
     ]
    }
   ],
   "source": [
    "# Algorithm 1 Horizontal Comparison\n",
    "def horizontal_comparison(self):\n",
    "    if self.fea_h is not None:\n",
    "        return self.fea_h\n",
    "\n",
    "    fea_h = []\n",
    "    with tf.variable_scope(\"algo_1\"):\n",
    "        for i, pooling in enumerate([K.max, K.min, K.mean]):\n",
    "            regM0, regM1 = [], []\n",
    "            for j, ws in enumerate(wss):\n",
    "                for k, atten_embed in enumerate(atten_embeds):\n",
    "                    # Working with building block A, moving the window across the whole length of the word embedding\n",
    "                    conv = building_block_A(atten_embed, ws_0, d, num_filters_A)\n",
    "                    conv = tf.squeeze(conv, axis=[0,2])\n",
    "                    if k == 0:\n",
    "                        regM0.append(pooling(conv, 0))\n",
    "                    else:\n",
    "                        regM1.append(pooling(conv, 0))\n",
    "            regM0, regM1 = tf.pack(regM0), tf.pack(regM1)\n",
    "\n",
    "            for n in xrange(num_filters):\n",
    "                fea_h.append(comU2(regM0[:,n], regM1[:,n]))\n",
    "\n",
    "        fea_h = K.expand_dims(K.flatten(fea_h),0)\n",
    "\n",
    "        self.fea_h = fea_h\n",
    "        \n",
    "        return fea_h\n",
    "fea_h = setence_model.horizontal_comparison()"
   ]
  },
  {
   "cell_type": "code",
   "execution_count": 107,
   "metadata": {
    "collapsed": false
   },
   "outputs": [
    {
     "data": {
      "text/plain": [
       "<tf.Tensor 'concat_8:0' shape=(486,) dtype=float64>"
      ]
     },
     "execution_count": 107,
     "metadata": {},
     "output_type": "execute_result"
    }
   ],
   "source": [
    "fea_v"
   ]
  },
  {
   "cell_type": "code",
   "execution_count": 101,
   "metadata": {
    "collapsed": false
   },
   "outputs": [],
   "source": [
    "fea_a, fea_b = map(K.flatten, [fea_a, fea_b])"
   ]
  },
  {
   "cell_type": "code",
   "execution_count": 103,
   "metadata": {
    "collapsed": false
   },
   "outputs": [],
   "source": [
    "a, b = map(K.flatten, [fea_a, fea_b])"
   ]
  },
  {
   "cell_type": "code",
   "execution_count": 104,
   "metadata": {
    "collapsed": false
   },
   "outputs": [
    {
     "data": {
      "text/plain": [
       "<tf.Tensor 'Reshape_15:0' shape=(81,) dtype=float64>"
      ]
     },
     "execution_count": 104,
     "metadata": {},
     "output_type": "execute_result"
    }
   ],
   "source": [
    "a"
   ]
  },
  {
   "cell_type": "code",
   "execution_count": 75,
   "metadata": {
    "collapsed": false
   },
   "outputs": [],
   "source": [
    "n_hidden = 5 \n",
    "p = fully_connected(fully_connected(fea_A, n_hidden, activation_fn=K.tanh), 5, activation_fn=tf.nn.log_softmax)\n",
    "# p_ = sparse_target_distribution(y)\n",
    "\n",
    "cross_entropy = -tf.reduce_sum(p_ * tf.log(p))\n",
    "entropy = -tf.reduce_sum(p_ * tf.log(p_ + 0.00001))\n",
    "kl_divergence = cross_entropy - entropy\n",
    "\n",
    "train_step = tf.train.GradientDescentOptimizer(0.5).minimize(kl_divergence)"
   ]
  },
  {
   "cell_type": "code",
   "execution_count": 42,
   "metadata": {
    "collapsed": false
   },
   "outputs": [
    {
     "ename": "NameError",
     "evalue": "name 'p' is not defined",
     "output_type": "error",
     "traceback": [
      "\u001b[0;31m---------------------------------------------------------------------------\u001b[0m",
      "\u001b[0;31mNameError\u001b[0m                                 Traceback (most recent call last)",
      "\u001b[0;32m<ipython-input-42-9d7bf0753729>\u001b[0m in \u001b[0;36m<module>\u001b[0;34m()\u001b[0m\n\u001b[0;32m----> 1\u001b[0;31m \u001b[0mp\u001b[0m\u001b[0;34m\u001b[0m\u001b[0m\n\u001b[0m",
      "\u001b[0;31mNameError\u001b[0m: name 'p' is not defined"
     ]
    }
   ],
   "source": [
    "p"
   ]
  },
  {
   "cell_type": "code",
   "execution_count": null,
   "metadata": {
    "collapsed": false
   },
   "outputs": [],
   "source": []
  },
  {
   "cell_type": "code",
   "execution_count": null,
   "metadata": {
    "collapsed": false
   },
   "outputs": [],
   "source": [
    "conv_layers_A[0].get_weights()[0].shape"
   ]
  },
  {
   "cell_type": "code",
   "execution_count": 48,
   "metadata": {
    "collapsed": true
   },
   "outputs": [],
   "source": [
    "def sparse_target_distribution(y):\n",
    "    y_floor = int(np.floor(y))\n",
    "    p = np.zeros(5)\n",
    "    for i in xrange(y):\n",
    "        if i == y_floor:\n",
    "            p[i] = y - y_floor\n",
    "        elif i == y_floor - 1:\n",
    "            p[i] = y - y_floor + 1\n",
    "    \n",
    "    return p"
   ]
  },
  {
   "cell_type": "code",
   "execution_count": 62,
   "metadata": {
    "collapsed": false
   },
   "outputs": [
    {
     "ename": "TypeError",
     "evalue": "__init__() takes at least 2 arguments (2 given)",
     "output_type": "error",
     "traceback": [
      "\u001b[0;31m---------------------------------------------------------------------------\u001b[0m",
      "\u001b[0;31mTypeError\u001b[0m                                 Traceback (most recent call last)",
      "\u001b[0;32m<ipython-input-62-c656979a8787>\u001b[0m in \u001b[0;36m<module>\u001b[0;34m()\u001b[0m\n\u001b[0;32m----> 1\u001b[0;31m \u001b[0mMultinomial\u001b[0m\u001b[0;34m(\u001b[0m\u001b[0mlogits\u001b[0m\u001b[0;34m=\u001b[0m\u001b[0mp_\u001b[0m\u001b[0;34m)\u001b[0m\u001b[0;34m\u001b[0m\u001b[0m\n\u001b[0m",
      "\u001b[0;31mTypeError\u001b[0m: __init__() takes at least 2 arguments (2 given)"
     ]
    }
   ],
   "source": [
    "Multinomial(logits=p_)"
   ]
  },
  {
   "cell_type": "code",
   "execution_count": 63,
   "metadata": {
    "collapsed": false
   },
   "outputs": [
    {
     "data": {
      "text/plain": [
       "<tensorflow.contrib.distributions.python.ops.multinomial.Multinomial at 0x125907750>"
      ]
     },
     "execution_count": 63,
     "metadata": {},
     "output_type": "execute_result"
    }
   ],
   "source": [
    "p = [.2, .3, .5]\n",
    "Multinomial(n=4., p=p)"
   ]
  },
  {
   "cell_type": "code",
   "execution_count": null,
   "metadata": {
    "collapsed": false
   },
   "outputs": [],
   "source": [
    "for sentences in range(sentence_pairs):\n",
    "    sent_0, sent_1, target = sentences\n",
    "    \n",
    "    sess.run(train_step, feed_dict={x: batch_xs, y_: batch_ys})"
   ]
  },
  {
   "cell_type": "code",
   "execution_count": null,
   "metadata": {
    "collapsed": true
   },
   "outputs": [],
   "source": [
    "def initialize_block_A(d, wss, activation=K.tanh):    \n",
    "    conv_layers = [Convolution2D(num_filters, ws, 2*d, dim_ordering=\"tf\", activation=activation) for ws in wss]\n",
    "    \n",
    "    return conv_layers\n",
    "\n",
    "def initialize_block_B(d, wss, activation=K.tanh):    \n",
    "    conv_layers = [Convolution2D(num_filters, 1, ws, dim_ordering=\"tf\", activation=activation) for ws in wss]\n",
    "    \n",
    "    return conv_layers\n",
    "\n",
    "def initialize_dense(n_hidden=150, activation=K.tanh):\n",
    "    dense = Dense(n_hidden, activation=activation)\n",
    "    softmax = Dense(5, activation=K.softmax)\n",
    "    \n",
    "    return (dense, softmax)"
   ]
  },
  {
   "cell_type": "code",
   "execution_count": 23,
   "metadata": {
    "collapsed": false
   },
   "outputs": [],
   "source": []
  },
  {
   "cell_type": "code",
   "execution_count": null,
   "metadata": {
    "collapsed": false
   },
   "outputs": [],
   "source": [
    "output"
   ]
  },
  {
   "cell_type": "code",
   "execution_count": null,
   "metadata": {
    "collapsed": false
   },
   "outputs": [],
   "source": [
    "x"
   ]
  },
  {
   "cell_type": "code",
   "execution_count": null,
   "metadata": {
    "collapsed": false
   },
   "outputs": [],
   "source": [
    "K.transpose(A_0 * sent_0)"
   ]
  }
 ],
 "metadata": {
  "kernelspec": {
   "display_name": "Python 2",
   "language": "python",
   "name": "python2"
  },
  "language_info": {
   "codemirror_mode": {
    "name": "ipython",
    "version": 2
   },
   "file_extension": ".py",
   "mimetype": "text/x-python",
   "name": "python",
   "nbconvert_exporter": "python",
   "pygments_lexer": "ipython2",
   "version": "2.7.12"
  }
 },
 "nbformat": 4,
 "nbformat_minor": 0
}
